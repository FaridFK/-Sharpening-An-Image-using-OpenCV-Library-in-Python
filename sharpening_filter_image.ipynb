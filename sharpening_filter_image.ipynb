{
 "cells": [
  {
   "cell_type": "markdown",
   "id": "ce783ab9",
   "metadata": {},
   "source": [
    "# Sharpening An Image using OpenCV Library in Python"
   ]
  },
  {
   "cell_type": "code",
   "execution_count": 1,
   "id": "c9dd04e0",
   "metadata": {},
   "outputs": [],
   "source": [
    "# load the required packages\n",
    "import cv2\n",
    "import numpy as np"
   ]
  },
  {
   "cell_type": "code",
   "execution_count": 2,
   "id": "b0ec1ad6",
   "metadata": {},
   "outputs": [],
   "source": [
    "# load the image into system memory\n",
    "image = cv2.imread('7 change.jpg', flags=cv2.IMREAD_COLOR)"
   ]
  },
  {
   "cell_type": "code",
   "execution_count": 3,
   "id": "8b8593bd",
   "metadata": {},
   "outputs": [],
   "source": [
    "# display the image to the screen\n",
    "cv2.imshow('AV CV- Original Image', image)\n",
    "cv2.waitKey()\n",
    "cv2.destroyAllWindows()"
   ]
  },
  {
   "cell_type": "code",
   "execution_count": 4,
   "id": "fa80625e",
   "metadata": {},
   "outputs": [],
   "source": [
    "kernel = np.array([[0, -1, 0],\n",
    "                   [-1, 5,-1],\n",
    "                   [0, -1, 0]])\n",
    "image_sharp = cv2.filter2D(src=image, ddepth=-1, kernel=kernel)\n",
    "cv2.imshow('AV CV- Sharpened Filter Image', image_sharp)\n",
    "cv2.waitKey()\n",
    "cv2.destroyAllWindows()"
   ]
  },
  {
   "cell_type": "code",
   "execution_count": null,
   "id": "cae13f49",
   "metadata": {},
   "outputs": [],
   "source": []
  }
 ],
 "metadata": {
  "kernelspec": {
   "display_name": "Python 3",
   "language": "python",
   "name": "python3"
  },
  "language_info": {
   "codemirror_mode": {
    "name": "ipython",
    "version": 3
   },
   "file_extension": ".py",
   "mimetype": "text/x-python",
   "name": "python",
   "nbconvert_exporter": "python",
   "pygments_lexer": "ipython3",
   "version": "3.8.8"
  }
 },
 "nbformat": 4,
 "nbformat_minor": 5
}
